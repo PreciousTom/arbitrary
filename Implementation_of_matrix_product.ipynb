{
  "cells": [
    {
      "cell_type": "markdown",
      "metadata": {
        "id": "view-in-github",
        "colab_type": "text"
      },
      "source": [
        "<a href=\"https://colab.research.google.com/github/PreciousTom/arbitrary/blob/main/Implementation_of_matrix_product.ipynb\" target=\"_parent\"><img src=\"https://colab.research.google.com/assets/colab-badge.svg\" alt=\"Open In Colab\"/></a>"
      ]
    },
    {
      "cell_type": "markdown",
      "metadata": {
        "id": "JHWg2Bmp15Wt"
      },
      "source": [
        "[Problem 1] Matrix product is calculated manually\n"
      ]
    },
    {
      "cell_type": "markdown",
      "metadata": {
        "id": "wili1X2s2dd2"
      },
      "source": [
        "$$A =\\begin{bmatrix}-1 & 2 & 3\\\\\n",
        "4 & -5 & 6\\\\7 & 8 & -9\\end{bmatrix}$$,$$B = \\begin{bmatrix}0 & 2 & 1\\\\0 & 2 & -8\\\\2 & 9 & -1\\end{bmatrix}$$,\n",
        "$$AB =\\begin{bmatrix}0+0+6 & -2+4+27 & -1+(-16)+(-3)\\\\0+0+12 & 8+(-10)+54 & 4+40+(-6)\\\\0+0+(-18) & 14+16+(-81) & 7+(-64)+(-9)\\end{bmatrix}$$, $$AB =\\begin{bmatrix}6 & 29 & -20\\\\12 & 52 & 38\\\\-18 & -51 & -48\\end{bmatrix}$$"
      ]
    },
    {
      "cell_type": "markdown",
      "metadata": {
        "id": "NltiVWo8ARh6"
      },
      "source": [
        "[Problem 2] Calculation by NumPy function\n"
      ]
    },
    {
      "cell_type": "code",
      "execution_count": 37,
      "metadata": {
        "id": "Q7By0YzW-uj1",
        "colab": {
          "base_uri": "https://localhost:8080/"
        },
        "outputId": "27879693-5aea-4d22-d4f3-80e128361c5d"
      },
      "outputs": [
        {
          "output_type": "execute_result",
          "data": {
            "text/plain": [
              "array([[  6,  29, -20],\n",
              "       [ 12,  52,  38],\n",
              "       [-18, -51, -48]])"
            ]
          },
          "metadata": {},
          "execution_count": 37
        }
      ],
      "source": [
        "import numpy as np\n",
        "a_ndarray = np.array([[-1, 2, 3], [4, -5, 6], [7, 8, -9]])\n",
        "b_ndarray = np.array([[0, 2, 1], [0, 2, -8], [2, 9, -1]])\n",
        "np.dot(a_ndarray,b_ndarray)"
      ]
    },
    {
      "cell_type": "code",
      "execution_count": 38,
      "metadata": {
        "id": "4BVvEZBeAoXY",
        "colab": {
          "base_uri": "https://localhost:8080/"
        },
        "outputId": "2afa1cda-33e1-43bf-d0e8-a965dcb63fb6"
      },
      "outputs": [
        {
          "output_type": "execute_result",
          "data": {
            "text/plain": [
              "array([[  6,  29, -20],\n",
              "       [ 12,  52,  38],\n",
              "       [-18, -51, -48]])"
            ]
          },
          "metadata": {},
          "execution_count": 38
        }
      ],
      "source": [
        "import numpy as np\n",
        "a_ndarray = np.array([[-1, 2, 3], [4, -5, 6], [7, 8, -9]])\n",
        "b_ndarray = np.array([[0, 2, 1], [0, 2, -8], [2, 9, -1]])\n",
        "np.matmul(a_ndarray,b_ndarray)"
      ]
    },
    {
      "cell_type": "code",
      "execution_count": 39,
      "metadata": {
        "id": "ZzlJVnhgA5s7",
        "colab": {
          "base_uri": "https://localhost:8080/"
        },
        "outputId": "1d96639c-e849-49c5-858e-c19f9e6d8fd3"
      },
      "outputs": [
        {
          "output_type": "stream",
          "name": "stdout",
          "text": [
            "[[  6  29 -20]\n",
            " [ 12  52  38]\n",
            " [-18 -51 -48]]\n"
          ]
        }
      ],
      "source": [
        "import numpy as np\n",
        "a_ndarray = np.array([[-1, 2, 3], [4, -5, 6], [7, 8, -9]])\n",
        "b_ndarray = np.array([[0, 2, 1], [0, 2, -8], [2, 9, -1]])\n",
        "ab_ndarray = a_ndarray@b_ndarray\n",
        "print(ab_ndarray)"
      ]
    },
    {
      "cell_type": "markdown",
      "metadata": {
        "id": "PWUkGolxAYC3"
      },
      "source": [
        "[Problem 3] Implementation of calculation of a certain element\n"
      ]
    },
    {
      "cell_type": "code",
      "execution_count": 40,
      "metadata": {
        "id": "Jot0myFYAcD3",
        "colab": {
          "base_uri": "https://localhost:8080/"
        },
        "outputId": "14ace437-9b4d-49c1-a068-f3be8ede3579"
      },
      "outputs": [
        {
          "output_type": "execute_result",
          "data": {
            "text/plain": [
              "0"
            ]
          },
          "metadata": {},
          "execution_count": 40
        }
      ],
      "source": [
        "ab = (a_ndarray[0][0]*b_ndarray[0][0])\n",
        "ab"
      ]
    },
    {
      "cell_type": "code",
      "execution_count": 41,
      "metadata": {
        "id": "JkWwaNeCBuvN",
        "colab": {
          "base_uri": "https://localhost:8080/"
        },
        "outputId": "f4df9403-3e4f-4324-e43c-defb03f655e1"
      },
      "outputs": [
        {
          "output_type": "execute_result",
          "data": {
            "text/plain": [
              "0"
            ]
          },
          "metadata": {},
          "execution_count": 41
        }
      ],
      "source": [
        "ab = (a_ndarray[0][1]*b_ndarray[1][0])\n",
        "ab"
      ]
    },
    {
      "cell_type": "code",
      "execution_count": 42,
      "metadata": {
        "id": "EPAiHdAICDSV",
        "colab": {
          "base_uri": "https://localhost:8080/"
        },
        "outputId": "c9d364dd-7a38-45bd-cb40-77d803568d7c"
      },
      "outputs": [
        {
          "output_type": "execute_result",
          "data": {
            "text/plain": [
              "6"
            ]
          },
          "metadata": {},
          "execution_count": 42
        }
      ],
      "source": [
        "ab = (a_ndarray[0][2]*b_ndarray[2][0])\n",
        "ab"
      ]
    },
    {
      "cell_type": "code",
      "execution_count": 43,
      "metadata": {
        "id": "mOmq5BpXCV6h",
        "colab": {
          "base_uri": "https://localhost:8080/"
        },
        "outputId": "2e3548ca-2139-45f8-cfd2-d940e7afa92d"
      },
      "outputs": [
        {
          "output_type": "execute_result",
          "data": {
            "text/plain": [
              "6"
            ]
          },
          "metadata": {},
          "execution_count": 43
        }
      ],
      "source": [
        "sum_ab = (a_ndarray[0][0]*b_ndarray[0][0])+(a_ndarray[0][1]*b_ndarray[1][0])+(a_ndarray[0][2]*b_ndarray[2][0])\n",
        "sum_ab"
      ]
    },
    {
      "cell_type": "markdown",
      "metadata": {
        "id": "QcKy1sbdDC62"
      },
      "source": [
        "[Problem 4] Creating a function that performs matrix multiplication\n"
      ]
    },
    {
      "cell_type": "code",
      "execution_count": 45,
      "metadata": {
        "id": "geC-QW1JGaBy",
        "colab": {
          "base_uri": "https://localhost:8080/"
        },
        "outputId": "a3cda085-0c68-4569-ad7a-030ad3f1d5eb"
      },
      "outputs": [
        {
          "output_type": "stream",
          "name": "stdout",
          "text": [
            "[[  6.  29. -20.]\n",
            " [ 12.  52.  38.]\n",
            " [-18. -51. -48.]]\n"
          ]
        }
      ],
      "source": [
        "def product_of_matrix(a, b):\n",
        "  matrix_ab = np.empty([3,3])\n",
        "  for row1 in range(a.shape[0]):\n",
        "    for column1 in range(b.shape[1]):\n",
        "      matrix_ab[row1][column1] = sum(a[row1, :]*b[:, column1])\n",
        "  return matrix_ab\n",
        "print(product_of_matrix(a_ndarray, b_ndarray))\n"
      ]
    },
    {
      "cell_type": "markdown",
      "metadata": {
        "id": "xgU5MUp-Licw"
      },
      "source": [
        "[Problem 5] Judge the input whose calculation is not defined\n"
      ]
    },
    {
      "cell_type": "code",
      "execution_count": 44,
      "metadata": {
        "colab": {
          "base_uri": "https://localhost:8080/"
        },
        "id": "_Fl_FoBtLoyG",
        "outputId": "d5c8a149-6524-47f1-b1a2-159aae761086"
      },
      "outputs": [
        {
          "output_type": "stream",
          "name": "stdout",
          "text": [
            "matrices are not aligned\n"
          ]
        }
      ],
      "source": [
        "d_ndarray = np.array([[-1, 2, 3], [4, -5, 6]])\n",
        "e_ndarray = np.array([[-9, 8, 7], [6, -5, 4]])\n",
        "if d_ndarray.shape[0] == e_ndarray.shape[1]:\n",
        "  print(product_of_matrix(d_ndarray, e_ndarray))\n",
        "else:\n",
        "  print(\"matrices are not aligned\")"
      ]
    },
    {
      "cell_type": "markdown",
      "metadata": {
        "id": "E7GPxoS3P_TD"
      },
      "source": [
        "[Problem 6] Transposition\n"
      ]
    },
    {
      "cell_type": "code",
      "execution_count": 36,
      "metadata": {
        "colab": {
          "base_uri": "https://localhost:8080/"
        },
        "id": "X7-YJH8NQBn6",
        "outputId": "fe8329a4-32a2-471d-d21f-23d876cf4bcc"
      },
      "outputs": [
        {
          "output_type": "stream",
          "name": "stdout",
          "text": [
            "[[ 33. -28.   9.]\n",
            " [-48.  41.  -6.]\n",
            " [  9.  -6.  45.]]\n"
          ]
        }
      ],
      "source": [
        "z = d_ndarray.T\n",
        "print(product_of_matrix(z, e_ndarray))"
      ]
    }
  ],
  "metadata": {
    "colab": {
      "provenance": [],
      "authorship_tag": "ABX9TyNMs60nMLFccsSd8yCk2SoV",
      "include_colab_link": true
    },
    "kernelspec": {
      "display_name": "Python 3",
      "name": "python3"
    },
    "language_info": {
      "name": "python"
    }
  },
  "nbformat": 4,
  "nbformat_minor": 0
}