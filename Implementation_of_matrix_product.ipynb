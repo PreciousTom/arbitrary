{
  "cells": [
    {
      "cell_type": "markdown",
      "metadata": {
        "id": "view-in-github",
        "colab_type": "text"
      },
      "source": [
        "<a href=\"https://colab.research.google.com/github/PreciousTom/arbitrary/blob/main/Implementation_of_matrix_product.ipynb\" target=\"_parent\"><img src=\"https://colab.research.google.com/assets/colab-badge.svg\" alt=\"Open In Colab\"/></a>"
      ]
    },
    {
      "cell_type": "markdown",
      "metadata": {
        "id": "JHWg2Bmp15Wt"
      },
      "source": [
        "[Problem 1] Matrix product is calculated manually\n"
      ]
    },
    {
      "cell_type": "markdown",
      "metadata": {
        "id": "wili1X2s2dd2"
      },
      "source": [
        "$$A =\\begin{bmatrix}-1 & 2 & 3\\\\\n",
        "4 & -5 & 6\\\\7 & 8 & -9\\end{bmatrix}$$,$$B = \\begin{bmatrix}0 & 2 & 1\\\\0 & 2 & -8\\\\2 & 9 & -1\\end{bmatrix}$$,\n",
        "$$AB =\\begin{bmatrix}0+0+6 & -2+4+27 & -1+(-16)+(-3)\\\\0+0+12 & 8+(-10)+54 & 4+40+(-6)\\\\0+0+(-18) & 14+16+(-81) & 7+(-64)+(-9)\\end{bmatrix}$$, $$AB =\\begin{bmatrix}6 & 29 & -20\\\\12 & 52 & 38\\\\-18 & -51 & -48\\end{bmatrix}$$"
      ]
    },
    {
      "cell_type": "markdown",
      "metadata": {
        "id": "NltiVWo8ARh6"
      },
      "source": [
        "[Problem 2] Calculation by NumPy function\n"
      ]
    },
    {
      "cell_type": "code",
      "execution_count": null,
      "metadata": {
        "id": "Q7By0YzW-uj1"
      },
      "outputs": [],
      "source": [
        "import numpy as np\n",
        "a_ndarray = np.array([[-1, 2, 3], [4, -5, 6], [7, 8, -9]])\n",
        "b_ndarray = np.array([[0, 2, 1], [0, 2, -8], [2, 9, -1]])\n",
        "np.dot(a_ndarray,b_ndarray)"
      ]
    },
    {
      "cell_type": "code",
      "execution_count": null,
      "metadata": {
        "id": "4BVvEZBeAoXY"
      },
      "outputs": [],
      "source": [
        "import numpy as np\n",
        "a_ndarray = np.array([[-1, 2, 3], [4, -5, 6], [7, 8, -9]])\n",
        "b_ndarray = np.array([[0, 2, 1], [0, 2, -8], [2, 9, -1]])\n",
        "np.matmul(a_ndarray,b_ndarray)"
      ]
    },
    {
      "cell_type": "code",
      "execution_count": null,
      "metadata": {
        "id": "ZzlJVnhgA5s7"
      },
      "outputs": [],
      "source": [
        "import numpy as np\n",
        "a_ndarray = np.array([[-1, 2, 3], [4, -5, 6], [7, 8, -9]])\n",
        "b_ndarray = np.array([[0, 2, 1], [0, 2, -8], [2, 9, -1]])\n",
        "ab_ndarray = a_ndarray@b_ndarray\n",
        "print(ab_ndarray)"
      ]
    },
    {
      "cell_type": "markdown",
      "metadata": {
        "id": "PWUkGolxAYC3"
      },
      "source": [
        "[Problem 3] Implementation of calculation of a certain element\n"
      ]
    },
    {
      "cell_type": "code",
      "execution_count": null,
      "metadata": {
        "id": "Jot0myFYAcD3"
      },
      "outputs": [],
      "source": [
        "ab = (a_ndarray[0][0]*b_ndarray[0][0])\n",
        "ab"
      ]
    },
    {
      "cell_type": "code",
      "execution_count": null,
      "metadata": {
        "id": "JkWwaNeCBuvN"
      },
      "outputs": [],
      "source": [
        "ab = (a_ndarray[0][1]*b_ndarray[1][0])\n",
        "ab"
      ]
    },
    {
      "cell_type": "code",
      "execution_count": null,
      "metadata": {
        "id": "EPAiHdAICDSV"
      },
      "outputs": [],
      "source": [
        "ab = (a_ndarray[0][2]*b_ndarray[2][0])\n",
        "ab"
      ]
    },
    {
      "cell_type": "code",
      "execution_count": null,
      "metadata": {
        "id": "mOmq5BpXCV6h"
      },
      "outputs": [],
      "source": [
        "sum_ab = (a_ndarray[0][0]*b_ndarray[0][0])+(a_ndarray[0][1]*b_ndarray[1][0])+(a_ndarray[0][2]*b_ndarray[2][0])\n",
        "sum_ab"
      ]
    },
    {
      "cell_type": "markdown",
      "metadata": {
        "id": "QcKy1sbdDC62"
      },
      "source": [
        "[Problem 4] Creating a function that performs matrix multiplication\n"
      ]
    },
    {
      "cell_type": "code",
      "execution_count": null,
      "metadata": {
        "id": "geC-QW1JGaBy"
      },
      "outputs": [],
      "source": [
        "def product_of_matrix(a, b):\n",
        "  matrix_ab = np.empty([3,3])\n",
        "  for row1 in range(a.shape[0]):\n",
        "    for column1 in range(b.shape[1]):\n",
        "      matrix_ab[row1][column1] = sum(a[row1, :]*b[:, column1])\n",
        "  return matrix_ab\n",
        "print(product_of_matrix(a_ndarray, b_ndarray))\n"
      ]
    },
    {
      "cell_type": "markdown",
      "metadata": {
        "id": "xgU5MUp-Licw"
      },
      "source": [
        "[Problem 5] Judge the input whose calculation is not defined\n"
      ]
    },
    {
      "cell_type": "code",
      "execution_count": null,
      "metadata": {
        "colab": {
          "base_uri": "https://localhost:8080/"
        },
        "id": "_Fl_FoBtLoyG",
        "outputId": "2380fdcb-19ee-4b6b-de5d-54b3ef21cc92"
      },
      "outputs": [
        {
          "name": "stdout",
          "output_type": "stream",
          "text": [
            "matrices are not aligned\n"
          ]
        }
      ],
      "source": [
        "d_ndarray = np.array([[-1, 2, 3], [4, -5, 6]])\n",
        "e_ndarray = np.array([[-9, 8, 7], [6, -5, 4]])\n",
        "if d_ndarray.shape[0] == e_ndarray.shape[1]:\n",
        "  print(product_of_matrix(d_ndarray, e_ndarray))\n",
        "else:\n",
        "  print(\"matrices are not aligned\")"
      ]
    },
    {
      "cell_type": "markdown",
      "metadata": {
        "id": "E7GPxoS3P_TD"
      },
      "source": [
        "[Problem 6] Transposition\n"
      ]
    },
    {
      "cell_type": "code",
      "execution_count": 36,
      "metadata": {
        "colab": {
          "base_uri": "https://localhost:8080/"
        },
        "id": "X7-YJH8NQBn6",
        "outputId": "fe8329a4-32a2-471d-d21f-23d876cf4bcc"
      },
      "outputs": [
        {
          "output_type": "stream",
          "name": "stdout",
          "text": [
            "[[ 33. -28.   9.]\n",
            " [-48.  41.  -6.]\n",
            " [  9.  -6.  45.]]\n"
          ]
        }
      ],
      "source": [
        "z = d_ndarray.T\n",
        "print(product_of_matrix(z, e_ndarray))"
      ]
    }
  ],
  "metadata": {
    "colab": {
      "provenance": [],
      "authorship_tag": "ABX9TyNMs60nMLFccsSd8yCk2SoV",
      "include_colab_link": true
    },
    "kernelspec": {
      "display_name": "Python 3",
      "name": "python3"
    },
    "language_info": {
      "name": "python"
    }
  },
  "nbformat": 4,
  "nbformat_minor": 0
}