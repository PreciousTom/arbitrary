{
  "nbformat": 4,
  "nbformat_minor": 0,
  "metadata": {
    "colab": {
      "provenance": [],
      "authorship_tag": "ABX9TyNT/M8YeJUY7rVJIt1drItI",
      "include_colab_link": true
    },
    "kernelspec": {
      "name": "python3",
      "display_name": "Python 3"
    },
    "language_info": {
      "name": "python"
    }
  },
  "cells": [
    {
      "cell_type": "markdown",
      "metadata": {
        "id": "view-in-github",
        "colab_type": "text"
      },
      "source": [
        "<a href=\"https://colab.research.google.com/github/PreciousTom/arbitrary/blob/main/Soroshi_Shinzaemon_problem.ipynb\" target=\"_parent\"><img src=\"https://colab.research.google.com/assets/colab-badge.svg\" alt=\"Open In Colab\"/></a>"
      ]
    },
    {
      "cell_type": "markdown",
      "source": [
        "Problem 1"
      ],
      "metadata": {
        "id": "ikf3HmxcXHAu"
      }
    },
    {
      "cell_type": "code",
      "source": [
        "grain = 1\n",
        "grain_per_day = []\n",
        "for day in range(100):\n",
        "  if day == 0:\n",
        "    grain_per_day.append(grain)\n",
        "  else:\n",
        "    grain_per_day.append((grain*2)**day)\n"
      ],
      "metadata": {
        "id": "0Wk_aFGKXI3q"
      },
      "execution_count": 3,
      "outputs": []
    },
    {
      "cell_type": "code",
      "source": [
        "print(\"the total rice grains after 100 days: \", sum(grain_per_day))"
      ],
      "metadata": {
        "colab": {
          "base_uri": "https://localhost:8080/"
        },
        "id": "j_AKhVL-YI5q",
        "outputId": "9f6e0076-e315-43ba-c750-e1e409c3f771"
      },
      "execution_count": 4,
      "outputs": [
        {
          "output_type": "stream",
          "name": "stdout",
          "text": [
            "the total rice grains after 100 days:  1267650600228229401496703205375\n"
          ]
        }
      ]
    },
    {
      "cell_type": "code",
      "source": [
        "import matplotlib.pyplot as plt\n",
        "%matplotlib inline\n",
        "\n",
        "plt.title(\"Grains per day\")\n",
        "plt.xlabel(\"grains\")\n",
        "plt.ylabel(\"days [m]\")\n",
        "plt.plot(grain_per_day)  # Enter the variable name of the list in \"List name\"\n",
        "plt.show()"
      ],
      "metadata": {
        "colab": {
          "base_uri": "https://localhost:8080/",
          "height": 472
        },
        "id": "QW58hH1QbGQF",
        "outputId": "3cd39fc6-c358-44d6-f927-185020989973"
      },
      "execution_count": 5,
      "outputs": [
        {
          "output_type": "display_data",
          "data": {
            "text/plain": [
              "<Figure size 640x480 with 1 Axes>"
            ],
            "image/png": "[encoded data removed]"
          },
          "metadata": {}
        }
      ]
    },
    {
      "cell_type": "markdown",
      "source": [
        "Problem 2"
      ],
      "metadata": {
        "id": "iQ8CNEgPbkYp"
      }
    },
    {
      "cell_type": "code",
      "source": [
        "def compute_grains_per_days(days=100):\n",
        " grain = 1\n",
        " grain_per_day = []\n",
        " for day in range(days):\n",
        "  if day == 0:\n",
        "    grain_per_day.append(grain)\n",
        "  else:\n",
        "    grain_per_day.append((grain*2)**day)\n",
        " print(\"the total rice grains after: \", sum(grain_per_day))\n",
        ""
      ],
      "metadata": {
        "id": "LWamZuxmbmJE"
      },
      "execution_count": 18,
      "outputs": []
    },
    {
      "cell_type": "code",
      "source": [
        "compute_grains_per_days(10)\n"
      ],
      "metadata": {
        "colab": {
          "base_uri": "https://localhost:8080/"
        },
        "id": "4qikpR5dcfSO",
        "outputId": "d3f617ad-d0c6-496b-b894-e9269520a337"
      },
      "execution_count": 19,
      "outputs": [
        {
          "output_type": "stream",
          "name": "stdout",
          "text": [
            "the total rice grains after:  1023\n"
          ]
        }
      ]
    },
    {
      "cell_type": "markdown",
      "source": [
        "Problem 3"
      ],
      "metadata": {
        "id": "UyS4svgAdEoN"
      }
    },
    {
      "cell_type": "code",
      "source": [
        "grains_in_bowl = 20000\n",
        "grains_per_day = grains_in_bowl*2\n",
        "\n",
        "def compute_how_many_days(people, grains):\n",
        "  total_grains_day = people*grains_per_day\n",
        "  days = grains/total_grains_day\n",
        "  print(\"how many days\" ,days)\n",
        "\n",
        "compute_how_many_days(3, 1000000000000000)\n",
        ""
      ],
      "metadata": {
        "colab": {
          "base_uri": "https://localhost:8080/"
        },
        "id": "3sa5jE2LdHrl",
        "outputId": "bf58a20f-a190-4001-c9f4-469c2fb121d4"
      },
      "execution_count": 38,
      "outputs": [
        {
          "output_type": "stream",
          "name": "stdout",
          "text": [
            "how many days 8333333333.333333\n"
          ]
        }
      ]
    }
  ]
}