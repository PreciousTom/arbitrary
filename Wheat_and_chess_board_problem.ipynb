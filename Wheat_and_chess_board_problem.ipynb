{
  "nbformat": 4,
  "nbformat_minor": 0,
  "metadata": {
    "colab": {
      "provenance": [],
      "authorship_tag": "ABX9TyNgq5Yx3P3dgagS1L3U66hi",
      "include_colab_link": true
    },
    "kernelspec": {
      "name": "python3",
      "display_name": "Python 3"
    },
    "language_info": {
      "name": "python"
    }
  },
  "cells": [
    {
      "cell_type": "markdown",
      "metadata": {
        "id": "view-in-github",
        "colab_type": "text"
      },
      "source": [
        "<a href=\"https://colab.research.google.com/github/PreciousTom/arbitrary/blob/main/Wheat_and_chess_board_problem.ipynb\" target=\"_parent\"><img src=\"https://colab.research.google.com/assets/colab-badge.svg\" alt=\"Open In Colab\"/></a>"
      ]
    },
    {
      "cell_type": "markdown",
      "source": [
        "[Problem 1] Number of wheat on a 2x2 square chess board\n"
      ],
      "metadata": {
        "id": "1Rh9U8odYifU"
      }
    },
    {
      "cell_type": "code",
      "source": [
        "import numpy as np\n",
        "n_squares = 4\n",
        "small_board_list = [1]\n",
        "for _ in range(n_squares - 1):\n",
        "    small_board_list.append(2*small_board_list[-1])\n",
        "print(\"Arrange wheat on a plate of 4 squares (list)：{}\".format(small_board_list))\n"
      ],
      "metadata": {
        "id": "OQdbiKDRZmju"
      },
      "execution_count": null,
      "outputs": []
    },
    {
      "cell_type": "code",
      "source": [
        "n_squares = 4\n",
        "small_board_list = [1]\n",
        "for _ in range(n_squares - 1):\n",
        "    small_board_list.append(2*small_board_list[-1])\n",
        "print(\"Arrange wheat on a plate of 4 squares (list)：{}\".format(small_board_list))\n",
        "\n",
        "\n",
        "small_board_ndarray = np.array(small_board_list). reshape(2,2)\n",
        "print(\"Arrange wheat on a plate of 4 squares (ndarray)：{}\".format(small_board_ndarray))\n"
      ],
      "metadata": {
        "id": "uTzV-Drndeil"
      },
      "execution_count": null,
      "outputs": []
    },
    {
      "cell_type": "markdown",
      "source": [
        "[Problem 2] Expansion to n × m mass\n"
      ],
      "metadata": {
        "id": "1Xsv42Wlexfn"
      }
    },
    {
      "cell_type": "code",
      "source": [
        "def num_of_wheat(n, m):\n",
        "  chess_square = n * m\n",
        "  indices = np.arange(chess_square)\n",
        "  chessBoardlist = 2 ** indices\n",
        "  return chessBoardlist.reshape(n, m). astype(np.uint64)\n",
        "\n",
        "print(\"Number of wheat on an 8x8 chessboard is:\")\n",
        "print(num_of_wheat(8,8))"
      ],
      "metadata": {
        "id": "GMA64PpoewZe"
      },
      "execution_count": null,
      "outputs": []
    },
    {
      "cell_type": "markdown",
      "source": [
        "[Problem 3] Total number of wheat\n"
      ],
      "metadata": {
        "id": "6ZW7KtoegbXQ"
      }
    },
    {
      "cell_type": "code",
      "source": [
        "chessboard_ndarry = num_of_wheat(8,8)\n",
        "total_wheat = chessboard_ndarry.sum()\n",
        "print(\"The total number of wheat:\", total_wheat)\n"
      ],
      "metadata": {
        "colab": {
          "base_uri": "https://localhost:8080/"
        },
        "id": "Pf3n3ZIthsT2",
        "outputId": "45ecc946-d8e4-43ef-c575-83f570d54d2d"
      },
      "execution_count": 18,
      "outputs": [
        {
          "output_type": "stream",
          "name": "stdout",
          "text": [
            "The total number of wheat: 18446744073709551615\n"
          ]
        }
      ]
    },
    {
      "cell_type": "code",
      "source": [
        "average_wheat = num_of_wheat(8,8).mean(axis = 0)\n",
        "print(average_wheat)"
      ],
      "metadata": {
        "colab": {
          "base_uri": "https://localhost:8080/"
        },
        "id": "upU8DqkEiYuh",
        "outputId": "a2c2fb1d-7290-41b1-aa41-8e813a9aa01d"
      },
      "execution_count": 19,
      "outputs": [
        {
          "output_type": "stream",
          "name": "stdout",
          "text": [
            "[9.04252160e+15 1.80850432e+16 3.61700864e+16 7.23401728e+16\n",
            " 1.44680346e+17 2.89360691e+17 5.78721383e+17 1.15744277e+18]\n"
          ]
        }
      ]
    },
    {
      "cell_type": "code",
      "source": [
        "import matplotlib.pyplot as plt\n",
        "%matplotlib inline\n",
        "\n",
        "plt.xlabel(\"column\")\n",
        "plt.ylabel(\"number\")\n",
        "plt.title(\"number in each column\")\n",
        "plt.bar(np.arange(1,9), average_wheat)\n",
        "plt.show()"
      ],
      "metadata": {
        "id": "JzmWewmrgd64"
      },
      "execution_count": null,
      "outputs": []
    },
    {
      "cell_type": "markdown",
      "source": [
        "[Problem 4] Heat map of the number of wheat\n"
      ],
      "metadata": {
        "id": "gZgVFI9Xgr43"
      }
    },
    {
      "cell_type": "code",
      "source": [
        "n_squares = 64\n",
        "small_board_list = [1]\n",
        "for _ in range(n_squares - 1):\n",
        "\n",
        "  small_board_list.append(2*small_board_list[-1])\n",
        "print(small_board_list)"
      ],
      "metadata": {
        "id": "8sqBmHGvjlQh"
      },
      "execution_count": null,
      "outputs": []
    },
    {
      "cell_type": "code",
      "source": [
        "plt.xlabel(\"column\")\n",
        "plt.ylabel(\"row\")\n",
        "plt.title(\"Heatmap\")\n",
        "plt.pcolor(np.array(small_board_list).reshape(8, 8))\n",
        "plt.show()"
      ],
      "metadata": {
        "id": "5_sVtYe8guQR"
      },
      "execution_count": null,
      "outputs": []
    },
    {
      "cell_type": "markdown",
      "source": [
        "[Problem 5] How many times is the second half as long as the first half?\n"
      ],
      "metadata": {
        "id": "C7E2N-_bg0X6"
      }
    },
    {
      "cell_type": "code",
      "source": [
        "whole_chessboard = num_of_wheat(8,8)\n",
        "first_half = whole_chessboard[0:4]\n",
        "second_half = whole_chessboard[4:8]\n",
        "print(\".....First half of the chess board.....\")\n",
        "print(first_half)\n",
        "print(\".....Second half of the chess board......\")\n",
        "print(second_half)\n"
      ],
      "metadata": {
        "id": "Vviv_6Zxg4qJ"
      },
      "execution_count": null,
      "outputs": []
    },
    {
      "cell_type": "code",
      "source": [
        "sum_firstHalf = first_half.sum()\n",
        "sum_secondHalf = second_half.sum()\n",
        "print(\"first half:\", sum_firstHalf, \"\\nsecond half:\" ,sum_secondHalf)\n",
        "num_times = sum_secondHalf / sum_firstHalf\n",
        "print(\"\\nThe second half is {} times longer than the fist half\". format(num_times))"
      ],
      "metadata": {
        "id": "2adYwsdKoeVZ"
      },
      "execution_count": null,
      "outputs": []
    },
    {
      "cell_type": "markdown",
      "source": [
        "[Problem 6] Expansion to n x m mass by another calculation method"
      ],
      "metadata": {
        "id": "XitQNchmpl3V"
      }
    },
    {
      "cell_type": "code",
      "source": [
        "def num_of_wheat_append(n, m):\n",
        "  chess_square = n*m\n",
        "  chessBoardlist = np.array([1]).astype(np.uint64)\n",
        "  for seed in range (chess_square-1):\n",
        "      chessBoardlist = np.append(chessBoardlist, 2*chessBoardlist[-1])\n",
        "\n",
        "  return chessBoardlist\n",
        "print(\"Number of wheat on a 8/8 chess board is:\")\n",
        "print(num_of_wheat_append(8,8))"
      ],
      "metadata": {
        "id": "j6vfUMZupyuN"
      },
      "execution_count": null,
      "outputs": []
    },
    {
      "cell_type": "markdown",
      "source": [
        "[Problem 7] Comparing calculation times\n"
      ],
      "metadata": {
        "id": "w9094rt4sPD_"
      }
    },
    {
      "cell_type": "code",
      "source": [
        "n_squares = 64\n",
        "indices_of_squares = np.arange(n_squares).astype(np.uint64)\n",
        "board_boardcast = 2**indices_of_squares\n",
        "print(\"Number of wheat in the last trout: {}\". format(board_boardcast))"
      ],
      "metadata": {
        "id": "MLLmXplzs8g9"
      },
      "execution_count": null,
      "outputs": []
    },
    {
      "cell_type": "code",
      "source": [
        "%%timeit\n",
        "num_of_wheat"
      ],
      "metadata": {
        "colab": {
          "base_uri": "https://localhost:8080/"
        },
        "id": "ipn_ocbxr4tV",
        "outputId": "6132aa09-2856-44a3-eb3e-3f32ab7990e8"
      },
      "execution_count": 41,
      "outputs": [
        {
          "output_type": "stream",
          "name": "stdout",
          "text": [
            "32.4 ns ± 0.869 ns per loop (mean ± std. dev. of 7 runs, 10000000 loops each)\n"
          ]
        }
      ]
    },
    {
      "cell_type": "code",
      "source": [
        "%%timeit\n",
        "num_of_wheat_append"
      ],
      "metadata": {
        "colab": {
          "base_uri": "https://localhost:8080/"
        },
        "id": "jgUiRabusk1w",
        "outputId": "9bda4ad3-0081-4def-f02f-75b04004e1d3"
      },
      "execution_count": 37,
      "outputs": [
        {
          "output_type": "stream",
          "name": "stdout",
          "text": [
            "33.8 ns ± 0.709 ns per loop (mean ± std. dev. of 7 runs, 10000000 loops each)\n"
          ]
        }
      ]
    },
    {
      "cell_type": "code",
      "source": [
        "%%timeit\n",
        "board_boardcast"
      ],
      "metadata": {
        "colab": {
          "base_uri": "https://localhost:8080/"
        },
        "id": "uHNoYygxsrM-",
        "outputId": "aa5aa904-6dc7-4fa6-aff6-93e4260defac"
      },
      "execution_count": 42,
      "outputs": [
        {
          "output_type": "stream",
          "name": "stdout",
          "text": [
            "35.7 ns ± 8.2 ns per loop (mean ± std. dev. of 7 runs, 10000000 loops each)\n"
          ]
        }
      ]
    }
  ]
}