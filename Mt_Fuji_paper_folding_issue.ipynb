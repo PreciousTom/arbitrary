{
  "nbformat": 4,
  "nbformat_minor": 0,
  "metadata": {
    "colab": {
      "provenance": [],
      "authorship_tag": "ABX9TyPk97Lb5HnveLVsA5+bU9Nt",
      "include_colab_link": true
    },
    "kernelspec": {
      "name": "python3",
      "display_name": "Python 3"
    },
    "language_info": {
      "name": "python"
    }
  },
  "cells": [
    {
      "cell_type": "markdown",
      "metadata": {
        "id": "view-in-github",
        "colab_type": "text"
      },
      "source": [
        "<a href=\"https://colab.research.google.com/github/PreciousTom/arbitrary/blob/main/Mt_Fuji_paper_folding_issue.ipynb\" target=\"_parent\"><img src=\"https://colab.research.google.com/assets/colab-badge.svg\" alt=\"Open In Colab\"/></a>"
      ]
    },
    {
      "cell_type": "markdown",
      "source": [
        "Problem 1"
      ],
      "metadata": {
        "id": "qKaF7Dt2hGuE"
      }
    },
    {
      "cell_type": "code",
      "source": [
        "\n",
        "THICKNESS = 0.00008\n",
        "MT_FUJI = 3776\n",
        "fold_times = 1\n",
        "current_thickness = 0\n",
        "while (current_thickness < 3776):\n",
        "  current_thickness = THICKNESS*(2**fold_times)\n",
        "  fold_times+=1\n",
        "print(\"exceeded mt fuji on the {}th fold\".format(fold_times))\n",
        "\n"
      ],
      "metadata": {
        "colab": {
          "base_uri": "https://localhost:8080/"
        },
        "id": "az4XXic2pan0",
        "outputId": "c67e5c3c-361c-4860-915f-c90c5429a0a9"
      },
      "execution_count": 10,
      "outputs": [
        {
          "output_type": "stream",
          "name": "stdout",
          "text": [
            "exceeded mt fuji on the 27th fold\n"
          ]
        }
      ]
    },
    {
      "cell_type": "markdown",
      "source": [
        "Problem 2"
      ],
      "metadata": {
        "id": "ExkmIu81rFLe"
      }
    },
    {
      "cell_type": "code",
      "source": [
        "# the distance in light years\n",
        "CLOSEST_NON_SUN_STAR = 4.4\n",
        "\n",
        "# one light year in trillion km\n",
        "LIGHT_YEAR = 9.5\n",
        "\n",
        "# the real distance in km\n",
        "DISTANCE = (9.5 * 4.4)*1000000000000\n",
        "\n",
        "def calculate_folds_from_distance(distance):\n",
        "\n",
        "  problem2_fold_times = 1\n",
        "  problem2_current_thickness = 0\n",
        "\n",
        "  while ((problem2_current_thickness//1000) < distance):\n",
        "    problem2_current_thickness = THICKNESS*(2**problem2_fold_times)\n",
        "    problem2_fold_times+=1\n",
        "\n",
        "  return problem2_fold_times\n",
        "\n",
        "print(\"reached the closest non star on the {}th fold\".format(calculate_folds_from_distance(DISTANCE)))"
      ],
      "metadata": {
        "colab": {
          "base_uri": "https://localhost:8080/"
        },
        "id": "mt0k2_NVrHci",
        "outputId": "f65d6fe7-4470-43e6-d1ed-d4c03d274f9e"
      },
      "execution_count": 12,
      "outputs": [
        {
          "output_type": "stream",
          "name": "stdout",
          "text": [
            "reached the closest non star on the 70th fold\n"
          ]
        }
      ]
    },
    {
      "cell_type": "markdown",
      "source": [
        "Problem 3"
      ],
      "metadata": {
        "id": "e4YyBtUmtnFT"
      }
    },
    {
      "cell_type": "code",
      "source": [
        "def calculate_length_of_paper_from_folds(folds):\n",
        "  PROBLEM3_THICKNESS = 0.00008\n",
        "  length = (PROBLEM3_THICKNESS/6)*((2**folds)+4)*(2**folds-1)\n",
        "  return length\n",
        "\n",
        "# distance to the moon in meters\n",
        "DISTANCE_TO_THE_MOON = 384400*1000\n",
        "\n",
        "print(\"the length of paper needed to be folded to reach the mood is {}m\".format(calculate_length_of_paper_from_folds(calculate_folds_from_distance(DISTANCE_TO_THE_MOON))))\n",
        "print(\"the length of paper needed to be folded to reach the mt fuji is {}m\".format(calculate_length_of_paper_from_folds(calculate_folds_from_distance(MT_FUJI))))\n",
        "print(\"the length of paper needed to be folded to reach the non-sun star is {}m\".format(calculate_length_of_paper_from_folds(calculate_folds_from_distance(DISTANCE))))"
      ],
      "metadata": {
        "colab": {
          "base_uri": "https://localhost:8080/"
        },
        "id": "iqNMcX_stpKm",
        "outputId": "524c6282-cb53-483a-ceee-efa347cba8a9"
      },
      "execution_count": 17,
      "outputs": [
        {
          "output_type": "stream",
          "name": "stdout",
          "text": [
            "the length of paper needed to be folded to reach the mood is 4.3269140487790247e+27m\n",
            "the length of paper needed to be folded to reach the mt fuji is 2.5185954575854534e+17m\n",
            "the length of paper needed to be folded to reach the non-sun star is 1.8583954332108855e+37m\n"
          ]
        }
      ]
    }
  ]
}